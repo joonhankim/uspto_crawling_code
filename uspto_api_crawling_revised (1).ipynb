{
 "cells": [
  {
   "cell_type": "code",
   "execution_count": 57,
   "metadata": {},
   "outputs": [],
   "source": [
    "import requests\n",
    "import time\n",
    "import pandas as pd"
   ]
  },
  {
   "cell_type": "code",
   "execution_count": 58,
   "metadata": {},
   "outputs": [],
   "source": [
    "url_post = 'http://www.patentsview.org/api/patents/query'\n",
    "post_len = 10000"
   ]
  },
  {
   "cell_type": "code",
   "execution_count": 66,
   "metadata": {},
   "outputs": [],
   "source": [
    "#Don't touch ('Only patent_date ex)yyyy-mm-dd')\n",
    "q1 = '?q={\"_and\":[ {\"_gte\":{\"patent_date\":\"2010-01-01\"}},{\"_or\":[{\"_text_all\":{\"patent_title\":'\n",
    "q2 = '}},{\"_text_all\":{\"patent_abstract\":'\n",
    "q3 = '}}]}]}'"
   ]
  },
  {
   "cell_type": "code",
   "execution_count": 67,
   "metadata": {},
   "outputs": [],
   "source": [
    "#Don't touch\n",
    "q = '?q={\"_and\":[ {\"_gte\":{\"patent_date\":\"2010-01-01\"}},{\"_or\":[{\"_text_all\":{\"patent_title\":search_t}},{\"_text_all\":{\"patent_abstract\":search_t}}]}]}'"
   ]
  },
  {
   "cell_type": "code",
   "execution_count": 68,
   "metadata": {},
   "outputs": [
    {
     "name": "stdout",
     "output_type": "stream",
     "text": [
      "['autonomous car', 'autonomous vehicle', 'autonomous drive', 'autonomous driver', 'autonomous driving', 'self-driving car', 'self-driving vehicle', 'self-driving drive', 'self-driving driver', 'self-driving driving', 'driverless car', 'driverless vehicle', 'driverless drive', 'driverless driver', 'driverless driving']\n",
      "15\n"
     ]
    }
   ],
   "source": [
    "# 2-1) patent keyword\n",
    "searchText_f = [\"autonomous\",\"self-driving\",\"driverless\"]\n",
    "searchText_b = [\"car\",\"vehicle\",\"drive\",\"driver\",\"driving\"]\n",
    "searchText_T=[]\n",
    "for f in searchText_f:\n",
    "    for b in searchText_b:\n",
    "        searchText_T.append(f+\" \"+b)\n",
    "\n",
    "print(searchText_T)\n",
    "print(len(searchText_T))"
   ]
  },
  {
   "cell_type": "code",
   "execution_count": 69,
   "metadata": {},
   "outputs": [],
   "source": [
    "# for t,search_t in enumerate(searchText_T):\n",
    "#     q=q1+'\"'+searchText_T[t]+'\"'+q2+'\"'+searchText_T[t]+'\"'+q3\n",
    "#     o1 = '&o={\"page\":'\n",
    "#     o3 = ',\"per_page\":10000}'\n",
    "#     o = o1+str(t)+o3\n",
    "#     print(q)\n",
    "#     print(o)"
   ]
  },
  {
   "cell_type": "code",
   "execution_count": 71,
   "metadata": {},
   "outputs": [
    {
     "name": "stdout",
     "output_type": "stream",
     "text": [
      "search num:  0\n",
      "search text:  autonomous car\n",
      "total_patent_num : 25\n",
      "post page:  2\n",
      "exe_time : 10.442407846450806\n",
      "search num:  1\n",
      "search text:  autonomous vehicle\n",
      "total_patent_num : 2243\n",
      "post page:  2\n",
      "exe_time : 18.784066915512085\n",
      "search num:  2\n",
      "search text:  autonomous drive\n",
      "total_patent_num : 304\n",
      "post page:  2\n",
      "exe_time : 13.163792610168457\n",
      "search num:  3\n",
      "search text:  autonomous driver\n",
      "total_patent_num : 307\n",
      "post page:  2\n",
      "exe_time : 16.363144397735596\n",
      "search num:  4\n",
      "search text:  autonomous driving\n",
      "total_patent_num : 675\n",
      "post page:  2\n",
      "exe_time : 17.14105725288391\n",
      "search num:  5\n",
      "search text:  self-driving car\n",
      "total_patent_num : 64\n",
      "post page:  2\n",
      "exe_time : 11.111077308654785\n",
      "search num:  6\n",
      "search text:  self-driving vehicle\n",
      "total_patent_num : 1330\n",
      "post page:  2\n",
      "exe_time : 16.05090022087097\n",
      "search num:  7\n",
      "search text:  self-driving drive\n",
      "total_patent_num : 1151\n",
      "post page:  2\n",
      "exe_time : 22.89945960044861\n",
      "search num:  8\n",
      "search text:  self-driving driver\n",
      "total_patent_num : 343\n",
      "post page:  2\n",
      "exe_time : 11.819566249847412\n",
      "search num:  9\n",
      "search text:  self-driving driving\n",
      "total_patent_num : 797\n",
      "post page:  2\n",
      "exe_time : 17.684424877166748\n",
      "search num:  10\n",
      "search text:  driverless car\n",
      "total_patent_num : 2\n",
      "post page:  2\n",
      "exe_time : 10.667640209197998\n",
      "search num:  11\n",
      "search text:  driverless vehicle\n",
      "total_patent_num : 50\n",
      "post page:  2\n",
      "exe_time : 11.79471468925476\n",
      "search num:  12\n",
      "search text:  driverless drive\n",
      "total_patent_num : 7\n",
      "post page:  2\n",
      "exe_time : 9.89683747291565\n",
      "search num:  13\n",
      "search text:  driverless driver\n",
      "total_patent_num : 13\n",
      "post page:  2\n",
      "exe_time : 17.240990161895752\n",
      "search num:  14\n",
      "search text:  driverless driving\n",
      "total_patent_num : 11\n",
      "post page:  2\n",
      "exe_time : 10.064008235931396\n"
     ]
    }
   ],
   "source": [
    "# post total page list\n",
    "total_patent = []\n",
    "\n",
    "# post data\n",
    "for t,search_t in enumerate(searchText_T):\n",
    "    print(\"search num: \",t)\n",
    "    print(\"search text: \", search_t)\n",
    "    st = time.time()\n",
    "    pt_dict_list = []\n",
    "    # post first page\n",
    "    try:\n",
    "        q=q1+'\"'+searchText_T[t]+'\"'+q2+'\"'+searchText_T[t]+'\"'+q3\n",
    "        f = '&f=[\"patent_number\",\"patent_title\",\"patent_date\",\"ipc_section\",\"ipc_class\",\"ipc_subclass\",\"patent_type\",\"patent_abstract\"]'\n",
    "        o = '&o={\"page\":1,\"per_page\":10000}'\n",
    "        o1 = '&o={\"page\":'\n",
    "        o3 = ',\"per_page\":10000}'\n",
    "        o = o1+str(t+1)+o3\n",
    "        #print(q)\n",
    "        t_data = q+f+o\n",
    "        #print(t_data)\n",
    "        t_post = requests.post(url_post+t_data).json()\n",
    "        #print(t_post)\n",
    "        print(\"total_patent_num :\",t_post['total_patent_count'])\n",
    "        pt_dict_list.extend(t_post['patents'])\n",
    "        post_page = int(t_post['total_patent_count']/post_len)+2\n",
    "        print(\"post page: \",post_page)\n",
    "        \n",
    "    except:\n",
    "        print(\"=== Try error1 ===\")\n",
    "    \n",
    "    # post total page\n",
    "    if post_page >=2:                   \n",
    "        for n in range(2,post_page):\n",
    "            \n",
    "            print(\"page number :\",n,\"/\",post_page)\n",
    "            try:\n",
    "                #data = post_data(n,post_len,patent_date,search_t)\n",
    "                js_data_post = requests.post(url_post+t_data).json()\n",
    "                pt_dict_list.extend(js_data_post['patents'])\n",
    "            \n",
    "            except:\n",
    "                print(\"=== Try error2 ===\")\n",
    "            \n",
    "            \n",
    "    et = time.time()\n",
    "    print(\"exe_time :\",et-st)\n",
    "    time.sleep(1)   \n",
    "    total_patent.extend(pt_dict_list)"
   ]
  },
  {
   "cell_type": "code",
   "execution_count": 72,
   "metadata": {},
   "outputs": [
    {
     "name": "stdout",
     "output_type": "stream",
     "text": [
      "7322\n"
     ]
    }
   ],
   "source": [
    "print(len(total_patent))"
   ]
  },
  {
   "cell_type": "code",
   "execution_count": null,
   "metadata": {},
   "outputs": [],
   "source": [
    "# 1) filter util patent (not design etc..)\n",
    "util_patent = []\n",
    "for pat in total_patent:\n",
    "\n",
    "    if pat['patent_type'] == 'utility':\n",
    "          util_patent.append(pat)\n",
    "\n",
    "print(util_patent[0])"
   ]
  },
  {
   "cell_type": "code",
   "execution_count": null,
   "metadata": {},
   "outputs": [],
   "source": [
    "# 2) ipcs ->list\n",
    "st = time.time()\n",
    "for d in util_patent:\n",
    "    ipc_list = []\n",
    "    for c in d['IPCs']:\n",
    "        # ==== ipc class prob ['g1c','g5d' ... ] ===== #\n",
    "        if len(str(c['ipc_class']))==1:\n",
    "            c['ipc_class'] = str('0') + c['ipc_class']\n",
    "\n",
    "        ipc = c['ipc_section'] + str(c['ipc_class']) + c['ipc_subclass']\n",
    "        ipc_list.append(ipc)\n",
    "    d['ipc_list'] = sorted(ipc_list)\n",
    "\n",
    "et = time.time()\n",
    "print(\"exe_time :\",et-st)\n",
    "\n",
    "print(util_patent[0])"
   ]
  },
  {
   "cell_type": "code",
   "execution_count": null,
   "metadata": {},
   "outputs": [],
   "source": [
    "# dict to dataframes\n",
    "df = pd.DataFrame.from_dict(util_patent).drop(['IPCs'],axis=1)\n",
    "\n",
    "print(df.iloc[0])\n",
    "print('='*50)\n",
    "print(df['ipc_list'][0])"
   ]
  },
  {
   "cell_type": "code",
   "execution_count": null,
   "metadata": {},
   "outputs": [],
   "source": [
    "df.head()"
   ]
  },
  {
   "cell_type": "code",
   "execution_count": null,
   "metadata": {},
   "outputs": [],
   "source": [
    "df.to_csv(\"Self_Driving_Patent_recent_1years.csv\",encoding='utf8')"
   ]
  }
 ],
 "metadata": {
  "kernelspec": {
   "display_name": "Python 3",
   "language": "python",
   "name": "python3"
  },
  "language_info": {
   "codemirror_mode": {
    "name": "ipython",
    "version": 3
   },
   "file_extension": ".py",
   "mimetype": "text/x-python",
   "name": "python",
   "nbconvert_exporter": "python",
   "pygments_lexer": "ipython3",
   "version": "3.6.9"
  }
 },
 "nbformat": 4,
 "nbformat_minor": 4
}
