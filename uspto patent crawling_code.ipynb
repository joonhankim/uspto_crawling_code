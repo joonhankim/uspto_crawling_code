{
 "cells": [
  {
   "cell_type": "markdown",
   "metadata": {},
   "source": [
    "# 1 Import Library"
   ]
  },
  {
   "cell_type": "code",
   "execution_count": 1,
   "metadata": {},
   "outputs": [],
   "source": [
    "import requests\n",
    "import time\n",
    "import pandas as pd"
   ]
  },
  {
   "cell_type": "markdown",
   "metadata": {},
   "source": [
    "# 2 Parameter Setting"
   ]
  },
  {
   "cell_type": "code",
   "execution_count": 2,
   "metadata": {},
   "outputs": [
    {
     "name": "stdout",
     "output_type": "stream",
     "text": [
      "['autonomous car', 'autonomous vehicle', 'autonomous drive', 'autonomous driver', 'autonomous driving', 'self-driving car', 'self-driving vehicle', 'self-driving drive', 'self-driving driver', 'self-driving driving', 'driverless car', 'driverless vehicle', 'driverless drive', 'driverless driver', 'driverless driving', 'robot car', 'robot vehicle', 'robot drive', 'robot driver', 'robot driving']\n",
      "20\n"
     ]
    }
   ],
   "source": [
    "# 2-1) patent keyword\n",
    "searchText_f = [\"autonomous\",\"self-driving\",\"driverless\",\"robot\"]\n",
    "searchText_b = [\"car\",\"vehicle\",\"drive\",\"driver\",\"driving\"]\n",
    "searchText_T = []\n",
    "for f in searchText_f:\n",
    "    for b in searchText_b:\n",
    "        searchText_T.append(f+\" \"+b)\n",
    "\n",
    "print(searchText_T)\n",
    "print(len(searchText_T))"
   ]
  },
  {
   "cell_type": "code",
   "execution_count": 3,
   "metadata": {},
   "outputs": [],
   "source": [
    "# 2-2) greater than and equal to ~\n",
    "patent_date = \"2007-01-01\"\n",
    "\n",
    "# 2-3) ustpo api post url \n",
    "url_post = 'http://www.patentsview.org/api/patents/query'\n",
    "# ref : http://www.patentsview.org/api/query-language.html \n",
    "\n",
    "# 2-4) post page size\n",
    "post_len = 10000"
   ]
  },
  {
   "cell_type": "markdown",
   "metadata": {},
   "source": [
    "# 3 Post_func definition"
   ]
  },
  {
   "cell_type": "code",
   "execution_count": 4,
   "metadata": {},
   "outputs": [],
   "source": [
    "def post_data(page,per_page,patent_date,search_text):\n",
    "    data = {\n",
    "            'q':{\n",
    "                \"_and\":[#1) date range\n",
    "                        {\"_gte\":\n",
    "                            {\"patent_date\":patent_date}},\n",
    "                            {\"_or\":[\n",
    "                                {\"_text_all\": #2) patent title\n",
    "                                    {\"patent_title\":search_text}},\n",
    "                                {\"_text_all\": #3) patent abstract\n",
    "                                    {\"patent_abstract\":search_text}}\n",
    "                                       ]}\n",
    "                        ]\n",
    "                    },\n",
    "            'f':[ \"patent_number\", # 1) pat_num\n",
    "                  \"patent_title\",  # 2) title\n",
    "                  \"patent_date\",   # 3) pat_grant date\n",
    "                  \"ipc_section\",   # 4) pat_ipc\n",
    "                  \"ipc_class\",\n",
    "                  \"ipc_subclass\",\n",
    "                  \"patent_type\",    # 5) pat_type\n",
    "                  \"patent_abstract\"\n",
    "                  ],\n",
    "            'o':{\"page\":page,\n",
    "                 \"per_page\":per_page\n",
    "                    }\n",
    "            }\n",
    "    return data"
   ]
  },
  {
   "cell_type": "markdown",
   "metadata": {},
   "source": [
    "# 4 Patent Request"
   ]
  },
  {
   "cell_type": "code",
   "execution_count": 5,
   "metadata": {},
   "outputs": [
    {
     "name": "stdout",
     "output_type": "stream",
     "text": [
      "('search num: ', 0)\n",
      "('search text: ', 'autonomous car')\n",
      "('total_patent_num :', 14)\n",
      "('exe_time :', 2.010999917984009)\n",
      "('search num: ', 1)\n",
      "('search text: ', 'autonomous vehicle')\n",
      "('total_patent_num :', 1453)\n",
      "('exe_time :', 6.878999948501587)\n",
      "('search num: ', 2)\n",
      "('search text: ', 'autonomous drive')\n",
      "('total_patent_num :', 242)\n",
      "('exe_time :', 2.6480000019073486)\n",
      "('search num: ', 3)\n",
      "('search text: ', 'autonomous driver')\n",
      "('total_patent_num :', 217)\n",
      "('exe_time :', 2.6419999599456787)\n",
      "('search num: ', 4)\n",
      "('search text: ', 'autonomous driving')\n",
      "('total_patent_num :', 411)\n",
      "('exe_time :', 3.072999954223633)\n",
      "('search num: ', 5)\n",
      "('search text: ', 'self-driving car')\n",
      "('total_patent_num :', 61)\n",
      "('exe_time :', 2.0530002117156982)\n",
      "('search num: ', 6)\n",
      "('search text: ', 'self-driving vehicle')\n",
      "('total_patent_num :', 1253)\n",
      "('exe_time :', 5.273000001907349)\n",
      "('search num: ', 7)\n",
      "('search text: ', 'self-driving drive')\n",
      "('total_patent_num :', 1221)\n",
      "('exe_time :', 5.317999839782715)\n",
      "('search num: ', 8)\n",
      "('search text: ', 'self-driving driver')\n",
      "('total_patent_num :', 376)\n",
      "('exe_time :', 2.984999895095825)\n",
      "('search num: ', 9)\n",
      "('search text: ', 'self-driving driving')\n",
      "('total_patent_num :', 764)\n",
      "('exe_time :', 3.3469998836517334)\n",
      "('search num: ', 10)\n",
      "('search text: ', 'driverless car')\n",
      "('total_patent_num :', 1)\n",
      "('exe_time :', 1.4489998817443848)\n",
      "('search num: ', 11)\n",
      "('search text: ', 'driverless vehicle')\n",
      "('total_patent_num :', 32)\n",
      "('exe_time :', 1.8499999046325684)\n",
      "('search num: ', 12)\n",
      "('search text: ', 'driverless drive')\n",
      "('total_patent_num :', 3)\n",
      "('exe_time :', 1.437999963760376)\n",
      "('search num: ', 13)\n",
      "('search text: ', 'driverless driver')\n",
      "('total_patent_num :', 11)\n",
      "('exe_time :', 1.6679999828338623)\n",
      "('search num: ', 14)\n",
      "('search text: ', 'driverless driving')\n",
      "('total_patent_num :', 6)\n",
      "('exe_time :', 1.624000072479248)\n",
      "('search num: ', 15)\n",
      "('search text: ', 'robot car')\n",
      "('total_patent_num :', 9)\n",
      "('exe_time :', 1.6679999828338623)\n",
      "('search num: ', 16)\n",
      "('search text: ', 'robot vehicle')\n",
      "('total_patent_num :', 191)\n",
      "('exe_time :', 2.495000123977661)\n",
      "('search num: ', 17)\n",
      "('search text: ', 'robot drive')\n",
      "('total_patent_num :', 652)\n",
      "('exe_time :', 3.824000120162964)\n",
      "('search num: ', 18)\n",
      "('search text: ', 'robot driver')\n",
      "('total_patent_num :', 51)\n",
      "('exe_time :', 2.126000165939331)\n",
      "('search num: ', 19)\n",
      "('search text: ', 'robot driving')\n",
      "('total_patent_num :', 423)\n",
      "('exe_time :', 3.128000020980835)\n"
     ]
    }
   ],
   "source": [
    "# post total page list\n",
    "total_patent = []\n",
    "\n",
    "# post data\n",
    "for t,search_t in enumerate(searchText_T):\n",
    "    print(\"search num: \",t)\n",
    "    print(\"search text: \", search_t)\n",
    "    st = time.time()\n",
    "    \n",
    "    pt_dict_list = []\n",
    "    \n",
    "    # post first page\n",
    "    try:\n",
    "        t_data = post_data(1,post_len,patent_date,search_t) \n",
    "        t_post = requests.post(url_post,json=t_data).json()\n",
    "        print(\"total_patent_num :\",t_post['total_patent_count'])\n",
    "        pt_dict_list.extend(t_post['patents'])\n",
    "        \n",
    "        post_page = int(t_post['total_patent_count']/post_len)+2\n",
    "        time.sleep(1)\n",
    "        \n",
    "    except:\n",
    "        print(\"=== Try error1 ===\")\n",
    "    \n",
    "    # post total page\n",
    "    if post_page >2:                   \n",
    "        for n in range(2,post_page):\n",
    "            \n",
    "            print(\"page number :\",n,\"/\",post_page)\n",
    "            try:\n",
    "                data = post_data(n,post_len,patent_date,search_t)\n",
    "                js_data_post = requests.post(url_post,json=data).json()\n",
    "                pt_dict_list.extend(js_data_post['patents'])\n",
    "            \n",
    "            except:\n",
    "                print(\"=== Try error2 ===\")\n",
    "            \n",
    "            \n",
    "    et = time.time()\n",
    "    print(\"exe_time :\",et-st)\n",
    "    time.sleep(1)   \n",
    "    total_patent.extend(pt_dict_list)"
   ]
  },
  {
   "cell_type": "code",
   "execution_count": 6,
   "metadata": {},
   "outputs": [
    {
     "name": "stdout",
     "output_type": "stream",
     "text": [
      "7391\n"
     ]
    }
   ],
   "source": [
    "print(len(total_patent))"
   ]
  },
  {
   "cell_type": "markdown",
   "metadata": {},
   "source": [
    "# 5 Filter ipc list"
   ]
  },
  {
   "cell_type": "code",
   "execution_count": 7,
   "metadata": {},
   "outputs": [
    {
     "name": "stdout",
     "output_type": "stream",
     "text": [
      "{u'patent_date': u'2018-06-19', u'patent_type': u'utility', u'IPCs': [{u'ipc_section': u'G', u'ipc_class': u'7', u'ipc_subclass': u'B'}, {u'ipc_section': u'G', u'ipc_class': u'1', u'ipc_subclass': u'C'}, {u'ipc_section': u'G', u'ipc_class': u'5', u'ipc_subclass': u'D'}, {u'ipc_section': u'G', u'ipc_class': u'6', u'ipc_subclass': u'Q'}], u'patent_title': u'Method and system for providing autonomous car errands', u'patent_number': u'10002466', u'patent_abstract': u\"A delivery server may generate two separate security codes following a transaction between a user and a vendor, as well as a hash of the combination of the codes. The server may provide the first code to the user and the second code to the vendor, and provide the hash of a combination of the codes to both the vendor and the user. The user's vehicle may receive mapping information for the vendor's location, and may use the mapping information to autonomously navigate to an exchange station at the vendor location. At the exchange station, the vendor and vehicle may exchange security codes, and both vehicle and vendor may create a hash of the combined first code and second code, and use this to authenticate each other (by comparing this hash with the hash received from the delivery server). The vendor may then provide the goods to the vehicle, and the vehicle may automatically receive them and return them to the user.\"}\n"
     ]
    }
   ],
   "source": [
    "# 1) filter util patent (not design etc..)\n",
    "util_patent = []\n",
    "for pat in total_patent:\n",
    "    if pat['patent_type'] == 'utility':\n",
    "          util_patent.append(pat)\n",
    "\n",
    "print(util_patent[0])"
   ]
  },
  {
   "cell_type": "code",
   "execution_count": 8,
   "metadata": {},
   "outputs": [
    {
     "name": "stdout",
     "output_type": "stream",
     "text": [
      "('exe_time :', 0.03699994087219238)\n",
      "{u'patent_date': u'2018-06-19', u'patent_type': u'utility', u'IPCs': [{u'ipc_section': u'G', u'ipc_class': u'07', u'ipc_subclass': u'B'}, {u'ipc_section': u'G', u'ipc_class': u'01', u'ipc_subclass': u'C'}, {u'ipc_section': u'G', u'ipc_class': u'05', u'ipc_subclass': u'D'}, {u'ipc_section': u'G', u'ipc_class': u'06', u'ipc_subclass': u'Q'}], 'ipc_list': [u'G01C', u'G05D', u'G06Q', u'G07B'], u'patent_title': u'Method and system for providing autonomous car errands', u'patent_number': u'10002466', u'patent_abstract': u\"A delivery server may generate two separate security codes following a transaction between a user and a vendor, as well as a hash of the combination of the codes. The server may provide the first code to the user and the second code to the vendor, and provide the hash of a combination of the codes to both the vendor and the user. The user's vehicle may receive mapping information for the vendor's location, and may use the mapping information to autonomously navigate to an exchange station at the vendor location. At the exchange station, the vendor and vehicle may exchange security codes, and both vehicle and vendor may create a hash of the combined first code and second code, and use this to authenticate each other (by comparing this hash with the hash received from the delivery server). The vendor may then provide the goods to the vehicle, and the vehicle may automatically receive them and return them to the user.\"}\n"
     ]
    }
   ],
   "source": [
    "# 2) ipcs ->list\n",
    "st = time.time()\n",
    "for d in util_patent:\n",
    "    ipc_list = []\n",
    "    for c in d['IPCs']:\n",
    "        # ==== ipc class prob ['g1c','g5d' ... ] ===== #\n",
    "        if len(str(c['ipc_class']))==1:\n",
    "            c['ipc_class'] = str('0') + c['ipc_class']\n",
    "\n",
    "        ipc = c['ipc_section'] + str(c['ipc_class']) + c['ipc_subclass']\n",
    "        ipc_list.append(ipc)\n",
    "    d['ipc_list'] = sorted(ipc_list)\n",
    "\n",
    "et = time.time()\n",
    "print(\"exe_time :\",et-st)\n",
    "\n",
    "print(util_patent[0])"
   ]
  },
  {
   "cell_type": "markdown",
   "metadata": {},
   "source": [
    "# 6 Save to csv file"
   ]
  },
  {
   "cell_type": "code",
   "execution_count": 9,
   "metadata": {},
   "outputs": [
    {
     "name": "stdout",
     "output_type": "stream",
     "text": [
      "ipc_list                                    [G01C, G05D, G06Q, G07B]\n",
      "patent_abstract    A delivery server may generate two separate se...\n",
      "patent_date                                               2018-06-19\n",
      "patent_number                                               10002466\n",
      "patent_title       Method and system for providing autonomous car...\n",
      "patent_type                                                  utility\n",
      "Name: 0, dtype: object\n",
      "==================================================\n",
      "[u'G01C', u'G05D', u'G06Q', u'G07B']\n"
     ]
    }
   ],
   "source": [
    "# dict to dataframes\n",
    "df = pd.DataFrame.from_dict(util_patent).drop(['IPCs'],axis=1)\n",
    "\n",
    "print(df.iloc[0])\n",
    "print('='*50)\n",
    "print(df['ipc_list'][0])"
   ]
  },
  {
   "cell_type": "code",
   "execution_count": 10,
   "metadata": {},
   "outputs": [
    {
     "data": {
      "text/html": [
       "<div>\n",
       "<style scoped>\n",
       "    .dataframe tbody tr th:only-of-type {\n",
       "        vertical-align: middle;\n",
       "    }\n",
       "\n",
       "    .dataframe tbody tr th {\n",
       "        vertical-align: top;\n",
       "    }\n",
       "\n",
       "    .dataframe thead th {\n",
       "        text-align: right;\n",
       "    }\n",
       "</style>\n",
       "<table border=\"1\" class=\"dataframe\">\n",
       "  <thead>\n",
       "    <tr style=\"text-align: right;\">\n",
       "      <th></th>\n",
       "      <th>ipc_list</th>\n",
       "      <th>patent_abstract</th>\n",
       "      <th>patent_date</th>\n",
       "      <th>patent_number</th>\n",
       "      <th>patent_title</th>\n",
       "      <th>patent_type</th>\n",
       "    </tr>\n",
       "  </thead>\n",
       "  <tbody>\n",
       "    <tr>\n",
       "      <th>0</th>\n",
       "      <td>[G01C, G05D, G06Q, G07B]</td>\n",
       "      <td>A delivery server may generate two separate se...</td>\n",
       "      <td>2018-06-19</td>\n",
       "      <td>10002466</td>\n",
       "      <td>Method and system for providing autonomous car...</td>\n",
       "      <td>utility</td>\n",
       "    </tr>\n",
       "    <tr>\n",
       "      <th>1</th>\n",
       "      <td>[G01C, G05D, G08G, H04B, H04W]</td>\n",
       "      <td>Methods, apparatuses, and non-transitory compu...</td>\n",
       "      <td>2018-10-30</td>\n",
       "      <td>10115305</td>\n",
       "      <td>Optimizing autonomous car's driving time and u...</td>\n",
       "      <td>utility</td>\n",
       "    </tr>\n",
       "    <tr>\n",
       "      <th>2</th>\n",
       "      <td>[B61D, B61L, E01B]</td>\n",
       "      <td>An autonomous ballast consist for unloading ba...</td>\n",
       "      <td>2018-11-27</td>\n",
       "      <td>10138603</td>\n",
       "      <td>Autonomous ballast unloading consist</td>\n",
       "      <td>utility</td>\n",
       "    </tr>\n",
       "    <tr>\n",
       "      <th>3</th>\n",
       "      <td>[B61J]</td>\n",
       "      <td>An active rail transport system for the automa...</td>\n",
       "      <td>2012-04-03</td>\n",
       "      <td>8146506</td>\n",
       "      <td>Active rail transport system</td>\n",
       "      <td>utility</td>\n",
       "    </tr>\n",
       "    <tr>\n",
       "      <th>4</th>\n",
       "      <td>[A61M, G05D]</td>\n",
       "      <td>An autonomous vehicle is provided that include...</td>\n",
       "      <td>2015-07-14</td>\n",
       "      <td>9081382</td>\n",
       "      <td>Autonomous vehicle comprising extracorporeal b...</td>\n",
       "      <td>utility</td>\n",
       "    </tr>\n",
       "  </tbody>\n",
       "</table>\n",
       "</div>"
      ],
      "text/plain": [
       "                         ipc_list  \\\n",
       "0        [G01C, G05D, G06Q, G07B]   \n",
       "1  [G01C, G05D, G08G, H04B, H04W]   \n",
       "2              [B61D, B61L, E01B]   \n",
       "3                          [B61J]   \n",
       "4                    [A61M, G05D]   \n",
       "\n",
       "                                     patent_abstract patent_date  \\\n",
       "0  A delivery server may generate two separate se...  2018-06-19   \n",
       "1  Methods, apparatuses, and non-transitory compu...  2018-10-30   \n",
       "2  An autonomous ballast consist for unloading ba...  2018-11-27   \n",
       "3  An active rail transport system for the automa...  2012-04-03   \n",
       "4  An autonomous vehicle is provided that include...  2015-07-14   \n",
       "\n",
       "  patent_number                                       patent_title patent_type  \n",
       "0      10002466  Method and system for providing autonomous car...     utility  \n",
       "1      10115305  Optimizing autonomous car's driving time and u...     utility  \n",
       "2      10138603               Autonomous ballast unloading consist     utility  \n",
       "3       8146506                       Active rail transport system     utility  \n",
       "4       9081382  Autonomous vehicle comprising extracorporeal b...     utility  "
      ]
     },
     "execution_count": 10,
     "metadata": {},
     "output_type": "execute_result"
    }
   ],
   "source": [
    "df.head()"
   ]
  },
  {
   "cell_type": "code",
   "execution_count": 11,
   "metadata": {},
   "outputs": [
    {
     "data": {
      "text/plain": [
       "7329"
      ]
     },
     "execution_count": 11,
     "metadata": {},
     "output_type": "execute_result"
    }
   ],
   "source": [
    "len(df)"
   ]
  },
  {
   "cell_type": "code",
   "execution_count": 12,
   "metadata": {},
   "outputs": [],
   "source": [
    "k= \"US\"+ df.patent_number\n",
    "df.patent_number=k"
   ]
  },
  {
   "cell_type": "code",
   "execution_count": 13,
   "metadata": {},
   "outputs": [
    {
     "data": {
      "text/html": [
       "<div>\n",
       "<style scoped>\n",
       "    .dataframe tbody tr th:only-of-type {\n",
       "        vertical-align: middle;\n",
       "    }\n",
       "\n",
       "    .dataframe tbody tr th {\n",
       "        vertical-align: top;\n",
       "    }\n",
       "\n",
       "    .dataframe thead th {\n",
       "        text-align: right;\n",
       "    }\n",
       "</style>\n",
       "<table border=\"1\" class=\"dataframe\">\n",
       "  <thead>\n",
       "    <tr style=\"text-align: right;\">\n",
       "      <th></th>\n",
       "      <th>ipc_list</th>\n",
       "      <th>patent_abstract</th>\n",
       "      <th>patent_date</th>\n",
       "      <th>patent_number</th>\n",
       "      <th>patent_title</th>\n",
       "      <th>patent_type</th>\n",
       "    </tr>\n",
       "  </thead>\n",
       "  <tbody>\n",
       "    <tr>\n",
       "      <th>0</th>\n",
       "      <td>[G01C, G05D, G06Q, G07B]</td>\n",
       "      <td>A delivery server may generate two separate se...</td>\n",
       "      <td>2018-06-19</td>\n",
       "      <td>US10002466</td>\n",
       "      <td>Method and system for providing autonomous car...</td>\n",
       "      <td>utility</td>\n",
       "    </tr>\n",
       "    <tr>\n",
       "      <th>1</th>\n",
       "      <td>[G01C, G05D, G08G, H04B, H04W]</td>\n",
       "      <td>Methods, apparatuses, and non-transitory compu...</td>\n",
       "      <td>2018-10-30</td>\n",
       "      <td>US10115305</td>\n",
       "      <td>Optimizing autonomous car's driving time and u...</td>\n",
       "      <td>utility</td>\n",
       "    </tr>\n",
       "    <tr>\n",
       "      <th>2</th>\n",
       "      <td>[B61D, B61L, E01B]</td>\n",
       "      <td>An autonomous ballast consist for unloading ba...</td>\n",
       "      <td>2018-11-27</td>\n",
       "      <td>US10138603</td>\n",
       "      <td>Autonomous ballast unloading consist</td>\n",
       "      <td>utility</td>\n",
       "    </tr>\n",
       "    <tr>\n",
       "      <th>3</th>\n",
       "      <td>[B61J]</td>\n",
       "      <td>An active rail transport system for the automa...</td>\n",
       "      <td>2012-04-03</td>\n",
       "      <td>US8146506</td>\n",
       "      <td>Active rail transport system</td>\n",
       "      <td>utility</td>\n",
       "    </tr>\n",
       "    <tr>\n",
       "      <th>4</th>\n",
       "      <td>[A61M, G05D]</td>\n",
       "      <td>An autonomous vehicle is provided that include...</td>\n",
       "      <td>2015-07-14</td>\n",
       "      <td>US9081382</td>\n",
       "      <td>Autonomous vehicle comprising extracorporeal b...</td>\n",
       "      <td>utility</td>\n",
       "    </tr>\n",
       "  </tbody>\n",
       "</table>\n",
       "</div>"
      ],
      "text/plain": [
       "                         ipc_list  \\\n",
       "0        [G01C, G05D, G06Q, G07B]   \n",
       "1  [G01C, G05D, G08G, H04B, H04W]   \n",
       "2              [B61D, B61L, E01B]   \n",
       "3                          [B61J]   \n",
       "4                    [A61M, G05D]   \n",
       "\n",
       "                                     patent_abstract patent_date  \\\n",
       "0  A delivery server may generate two separate se...  2018-06-19   \n",
       "1  Methods, apparatuses, and non-transitory compu...  2018-10-30   \n",
       "2  An autonomous ballast consist for unloading ba...  2018-11-27   \n",
       "3  An active rail transport system for the automa...  2012-04-03   \n",
       "4  An autonomous vehicle is provided that include...  2015-07-14   \n",
       "\n",
       "  patent_number                                       patent_title patent_type  \n",
       "0    US10002466  Method and system for providing autonomous car...     utility  \n",
       "1    US10115305  Optimizing autonomous car's driving time and u...     utility  \n",
       "2    US10138603               Autonomous ballast unloading consist     utility  \n",
       "3     US8146506                       Active rail transport system     utility  \n",
       "4     US9081382  Autonomous vehicle comprising extracorporeal b...     utility  "
      ]
     },
     "execution_count": 13,
     "metadata": {},
     "output_type": "execute_result"
    }
   ],
   "source": [
    "df.head()"
   ]
  },
  {
   "cell_type": "code",
   "execution_count": 14,
   "metadata": {},
   "outputs": [],
   "source": [
    "df = df.drop('patent_type', 1)"
   ]
  },
  {
   "cell_type": "code",
   "execution_count": 15,
   "metadata": {},
   "outputs": [
    {
     "data": {
      "text/html": [
       "<div>\n",
       "<style scoped>\n",
       "    .dataframe tbody tr th:only-of-type {\n",
       "        vertical-align: middle;\n",
       "    }\n",
       "\n",
       "    .dataframe tbody tr th {\n",
       "        vertical-align: top;\n",
       "    }\n",
       "\n",
       "    .dataframe thead th {\n",
       "        text-align: right;\n",
       "    }\n",
       "</style>\n",
       "<table border=\"1\" class=\"dataframe\">\n",
       "  <thead>\n",
       "    <tr style=\"text-align: right;\">\n",
       "      <th></th>\n",
       "      <th>ipc_list</th>\n",
       "      <th>patent_abstract</th>\n",
       "      <th>patent_date</th>\n",
       "      <th>patent_number</th>\n",
       "      <th>patent_title</th>\n",
       "    </tr>\n",
       "  </thead>\n",
       "  <tbody>\n",
       "    <tr>\n",
       "      <th>0</th>\n",
       "      <td>[G01C, G05D, G06Q, G07B]</td>\n",
       "      <td>A delivery server may generate two separate se...</td>\n",
       "      <td>2018-06-19</td>\n",
       "      <td>US10002466</td>\n",
       "      <td>Method and system for providing autonomous car...</td>\n",
       "    </tr>\n",
       "    <tr>\n",
       "      <th>1</th>\n",
       "      <td>[G01C, G05D, G08G, H04B, H04W]</td>\n",
       "      <td>Methods, apparatuses, and non-transitory compu...</td>\n",
       "      <td>2018-10-30</td>\n",
       "      <td>US10115305</td>\n",
       "      <td>Optimizing autonomous car's driving time and u...</td>\n",
       "    </tr>\n",
       "    <tr>\n",
       "      <th>2</th>\n",
       "      <td>[B61D, B61L, E01B]</td>\n",
       "      <td>An autonomous ballast consist for unloading ba...</td>\n",
       "      <td>2018-11-27</td>\n",
       "      <td>US10138603</td>\n",
       "      <td>Autonomous ballast unloading consist</td>\n",
       "    </tr>\n",
       "    <tr>\n",
       "      <th>3</th>\n",
       "      <td>[B61J]</td>\n",
       "      <td>An active rail transport system for the automa...</td>\n",
       "      <td>2012-04-03</td>\n",
       "      <td>US8146506</td>\n",
       "      <td>Active rail transport system</td>\n",
       "    </tr>\n",
       "    <tr>\n",
       "      <th>4</th>\n",
       "      <td>[A61M, G05D]</td>\n",
       "      <td>An autonomous vehicle is provided that include...</td>\n",
       "      <td>2015-07-14</td>\n",
       "      <td>US9081382</td>\n",
       "      <td>Autonomous vehicle comprising extracorporeal b...</td>\n",
       "    </tr>\n",
       "  </tbody>\n",
       "</table>\n",
       "</div>"
      ],
      "text/plain": [
       "                         ipc_list  \\\n",
       "0        [G01C, G05D, G06Q, G07B]   \n",
       "1  [G01C, G05D, G08G, H04B, H04W]   \n",
       "2              [B61D, B61L, E01B]   \n",
       "3                          [B61J]   \n",
       "4                    [A61M, G05D]   \n",
       "\n",
       "                                     patent_abstract patent_date  \\\n",
       "0  A delivery server may generate two separate se...  2018-06-19   \n",
       "1  Methods, apparatuses, and non-transitory compu...  2018-10-30   \n",
       "2  An autonomous ballast consist for unloading ba...  2018-11-27   \n",
       "3  An active rail transport system for the automa...  2012-04-03   \n",
       "4  An autonomous vehicle is provided that include...  2015-07-14   \n",
       "\n",
       "  patent_number                                       patent_title  \n",
       "0    US10002466  Method and system for providing autonomous car...  \n",
       "1    US10115305  Optimizing autonomous car's driving time and u...  \n",
       "2    US10138603               Autonomous ballast unloading consist  \n",
       "3     US8146506                       Active rail transport system  \n",
       "4     US9081382  Autonomous vehicle comprising extracorporeal b...  "
      ]
     },
     "execution_count": 15,
     "metadata": {},
     "output_type": "execute_result"
    }
   ],
   "source": [
    "df.head()"
   ]
  },
  {
   "cell_type": "code",
   "execution_count": 16,
   "metadata": {},
   "outputs": [],
   "source": [
    "df.patent_date=df.patent_date.str[:4]"
   ]
  },
  {
   "cell_type": "code",
   "execution_count": 17,
   "metadata": {},
   "outputs": [
    {
     "data": {
      "text/html": [
       "<div>\n",
       "<style scoped>\n",
       "    .dataframe tbody tr th:only-of-type {\n",
       "        vertical-align: middle;\n",
       "    }\n",
       "\n",
       "    .dataframe tbody tr th {\n",
       "        vertical-align: top;\n",
       "    }\n",
       "\n",
       "    .dataframe thead th {\n",
       "        text-align: right;\n",
       "    }\n",
       "</style>\n",
       "<table border=\"1\" class=\"dataframe\">\n",
       "  <thead>\n",
       "    <tr style=\"text-align: right;\">\n",
       "      <th></th>\n",
       "      <th>ipc_list</th>\n",
       "      <th>patent_abstract</th>\n",
       "      <th>patent_date</th>\n",
       "      <th>patent_number</th>\n",
       "      <th>patent_title</th>\n",
       "    </tr>\n",
       "  </thead>\n",
       "  <tbody>\n",
       "    <tr>\n",
       "      <th>0</th>\n",
       "      <td>[G01C, G05D, G06Q, G07B]</td>\n",
       "      <td>A delivery server may generate two separate se...</td>\n",
       "      <td>2018</td>\n",
       "      <td>US10002466</td>\n",
       "      <td>Method and system for providing autonomous car...</td>\n",
       "    </tr>\n",
       "    <tr>\n",
       "      <th>1</th>\n",
       "      <td>[G01C, G05D, G08G, H04B, H04W]</td>\n",
       "      <td>Methods, apparatuses, and non-transitory compu...</td>\n",
       "      <td>2018</td>\n",
       "      <td>US10115305</td>\n",
       "      <td>Optimizing autonomous car's driving time and u...</td>\n",
       "    </tr>\n",
       "    <tr>\n",
       "      <th>2</th>\n",
       "      <td>[B61D, B61L, E01B]</td>\n",
       "      <td>An autonomous ballast consist for unloading ba...</td>\n",
       "      <td>2018</td>\n",
       "      <td>US10138603</td>\n",
       "      <td>Autonomous ballast unloading consist</td>\n",
       "    </tr>\n",
       "    <tr>\n",
       "      <th>3</th>\n",
       "      <td>[B61J]</td>\n",
       "      <td>An active rail transport system for the automa...</td>\n",
       "      <td>2012</td>\n",
       "      <td>US8146506</td>\n",
       "      <td>Active rail transport system</td>\n",
       "    </tr>\n",
       "    <tr>\n",
       "      <th>4</th>\n",
       "      <td>[A61M, G05D]</td>\n",
       "      <td>An autonomous vehicle is provided that include...</td>\n",
       "      <td>2015</td>\n",
       "      <td>US9081382</td>\n",
       "      <td>Autonomous vehicle comprising extracorporeal b...</td>\n",
       "    </tr>\n",
       "  </tbody>\n",
       "</table>\n",
       "</div>"
      ],
      "text/plain": [
       "                         ipc_list  \\\n",
       "0        [G01C, G05D, G06Q, G07B]   \n",
       "1  [G01C, G05D, G08G, H04B, H04W]   \n",
       "2              [B61D, B61L, E01B]   \n",
       "3                          [B61J]   \n",
       "4                    [A61M, G05D]   \n",
       "\n",
       "                                     patent_abstract patent_date  \\\n",
       "0  A delivery server may generate two separate se...        2018   \n",
       "1  Methods, apparatuses, and non-transitory compu...        2018   \n",
       "2  An autonomous ballast consist for unloading ba...        2018   \n",
       "3  An active rail transport system for the automa...        2012   \n",
       "4  An autonomous vehicle is provided that include...        2015   \n",
       "\n",
       "  patent_number                                       patent_title  \n",
       "0    US10002466  Method and system for providing autonomous car...  \n",
       "1    US10115305  Optimizing autonomous car's driving time and u...  \n",
       "2    US10138603               Autonomous ballast unloading consist  \n",
       "3     US8146506                       Active rail transport system  \n",
       "4     US9081382  Autonomous vehicle comprising extracorporeal b...  "
      ]
     },
     "execution_count": 17,
     "metadata": {},
     "output_type": "execute_result"
    }
   ],
   "source": [
    "df.head()"
   ]
  },
  {
   "cell_type": "code",
   "execution_count": 18,
   "metadata": {},
   "outputs": [],
   "source": [
    "# encoding=utf8\n",
    "import sys\n",
    "reload(sys)\n",
    "sys.setdefaultencoding('utf8')\n",
    "df.to_csv(\"selfdriving_patent_0329.csv\")"
   ]
  },
  {
   "cell_type": "code",
   "execution_count": null,
   "metadata": {},
   "outputs": [],
   "source": []
  }
 ],
 "metadata": {
  "kernelspec": {
   "display_name": "Python 2",
   "language": "python",
   "name": "python2"
  },
  "language_info": {
   "codemirror_mode": {
    "name": "ipython",
    "version": 2
   },
   "file_extension": ".py",
   "mimetype": "text/x-python",
   "name": "python",
   "nbconvert_exporter": "python",
   "pygments_lexer": "ipython2",
   "version": "2.7.15"
  }
 },
 "nbformat": 4,
 "nbformat_minor": 2
}
